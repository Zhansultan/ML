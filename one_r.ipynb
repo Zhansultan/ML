{
 "cells": [
  {
   "cell_type": "markdown",
   "metadata": {},
   "source": [
    "# Чтение данных из файла"
   ]
  },
  {
   "cell_type": "code",
   "execution_count": 1,
   "metadata": {
    "scrolled": true
   },
   "outputs": [
    {
     "name": "stdout",
     "output_type": "stream",
     "text": [
      "     age  prescription astigmatic tear_rate lenses\n",
      "0  young         myope        yes    normal   hard\n",
      "1  young         myope         no    normal   soft\n",
      "2  young  hypermetrope        yes   reduced   none\n",
      "3  young  hypermetrope         no    normal   soft\n",
      "4  young  hypermetrope         no   reduced   none\n"
     ]
    }
   ],
   "source": [
    "import pandas as pd\n",
    "my_sheet = 'Sheet1'\n",
    "df = pd.read_excel('p.1.xls', sheet_name = my_sheet)\n",
    "print(df.head())"
   ]
  },
  {
   "cell_type": "code",
   "execution_count": 2,
   "metadata": {},
   "outputs": [
    {
     "data": {
      "text/plain": [
       "(16, 5)"
      ]
     },
     "execution_count": 2,
     "metadata": {},
     "output_type": "execute_result"
    }
   ],
   "source": [
    "df.shape"
   ]
  },
  {
   "cell_type": "code",
   "execution_count": 3,
   "metadata": {
    "scrolled": true
   },
   "outputs": [
    {
     "data": {
      "text/html": [
       "<div>\n",
       "<style scoped>\n",
       "    .dataframe tbody tr th:only-of-type {\n",
       "        vertical-align: middle;\n",
       "    }\n",
       "\n",
       "    .dataframe tbody tr th {\n",
       "        vertical-align: top;\n",
       "    }\n",
       "\n",
       "    .dataframe thead th {\n",
       "        text-align: right;\n",
       "    }\n",
       "</style>\n",
       "<table border=\"1\" class=\"dataframe\">\n",
       "  <thead>\n",
       "    <tr style=\"text-align: right;\">\n",
       "      <th></th>\n",
       "      <th>age</th>\n",
       "      <th>prescription</th>\n",
       "      <th>astigmatic</th>\n",
       "      <th>tear_rate</th>\n",
       "      <th>lenses</th>\n",
       "    </tr>\n",
       "  </thead>\n",
       "  <tbody>\n",
       "    <tr>\n",
       "      <th>11</th>\n",
       "      <td>Pre-presbyopic</td>\n",
       "      <td>myope</td>\n",
       "      <td>yes</td>\n",
       "      <td>reduced</td>\n",
       "      <td>none</td>\n",
       "    </tr>\n",
       "    <tr>\n",
       "      <th>12</th>\n",
       "      <td>Pre-presbyopic</td>\n",
       "      <td>myope</td>\n",
       "      <td>yes</td>\n",
       "      <td>normal</td>\n",
       "      <td>hard</td>\n",
       "    </tr>\n",
       "    <tr>\n",
       "      <th>13</th>\n",
       "      <td>Pre-presbyopic</td>\n",
       "      <td>myope</td>\n",
       "      <td>no</td>\n",
       "      <td>normal</td>\n",
       "      <td>soft</td>\n",
       "    </tr>\n",
       "    <tr>\n",
       "      <th>14</th>\n",
       "      <td>Pre-presbyopic</td>\n",
       "      <td>hypermetrope</td>\n",
       "      <td>yes</td>\n",
       "      <td>normal</td>\n",
       "      <td>none</td>\n",
       "    </tr>\n",
       "    <tr>\n",
       "      <th>15</th>\n",
       "      <td>Pre-presbyopic</td>\n",
       "      <td>hypermetrope</td>\n",
       "      <td>no</td>\n",
       "      <td>normal</td>\n",
       "      <td>soft</td>\n",
       "    </tr>\n",
       "  </tbody>\n",
       "</table>\n",
       "</div>"
      ],
      "text/plain": [
       "               age  prescription astigmatic tear_rate lenses\n",
       "11  Pre-presbyopic         myope        yes   reduced   none\n",
       "12  Pre-presbyopic         myope        yes    normal   hard\n",
       "13  Pre-presbyopic         myope         no    normal   soft\n",
       "14  Pre-presbyopic  hypermetrope        yes    normal   none\n",
       "15  Pre-presbyopic  hypermetrope         no    normal   soft"
      ]
     },
     "execution_count": 3,
     "metadata": {},
     "output_type": "execute_result"
    }
   ],
   "source": [
    "df.tail()"
   ]
  },
  {
   "cell_type": "code",
   "execution_count": 4,
   "metadata": {},
   "outputs": [],
   "source": [
    "data = df.describe(include=[object])"
   ]
  },
  {
   "cell_type": "code",
   "execution_count": 5,
   "metadata": {},
   "outputs": [
    {
     "data": {
      "text/plain": [
       "(4, 5)"
      ]
     },
     "execution_count": 5,
     "metadata": {},
     "output_type": "execute_result"
    }
   ],
   "source": [
    "data.shape"
   ]
  },
  {
   "cell_type": "code",
   "execution_count": 6,
   "metadata": {},
   "outputs": [
    {
     "data": {
      "text/html": [
       "<div>\n",
       "<style scoped>\n",
       "    .dataframe tbody tr th:only-of-type {\n",
       "        vertical-align: middle;\n",
       "    }\n",
       "\n",
       "    .dataframe tbody tr th {\n",
       "        vertical-align: top;\n",
       "    }\n",
       "\n",
       "    .dataframe thead th {\n",
       "        text-align: right;\n",
       "    }\n",
       "</style>\n",
       "<table border=\"1\" class=\"dataframe\">\n",
       "  <thead>\n",
       "    <tr style=\"text-align: right;\">\n",
       "      <th></th>\n",
       "      <th>age</th>\n",
       "      <th>prescription</th>\n",
       "      <th>astigmatic</th>\n",
       "      <th>tear_rate</th>\n",
       "      <th>lenses</th>\n",
       "    </tr>\n",
       "  </thead>\n",
       "  <tbody>\n",
       "    <tr>\n",
       "      <th>count</th>\n",
       "      <td>16</td>\n",
       "      <td>16</td>\n",
       "      <td>16</td>\n",
       "      <td>16</td>\n",
       "      <td>16</td>\n",
       "    </tr>\n",
       "    <tr>\n",
       "      <th>unique</th>\n",
       "      <td>3</td>\n",
       "      <td>2</td>\n",
       "      <td>2</td>\n",
       "      <td>2</td>\n",
       "      <td>3</td>\n",
       "    </tr>\n",
       "    <tr>\n",
       "      <th>top</th>\n",
       "      <td>presbyopic</td>\n",
       "      <td>hypermetrope</td>\n",
       "      <td>yes</td>\n",
       "      <td>normal</td>\n",
       "      <td>none</td>\n",
       "    </tr>\n",
       "    <tr>\n",
       "      <th>freq</th>\n",
       "      <td>6</td>\n",
       "      <td>9</td>\n",
       "      <td>9</td>\n",
       "      <td>10</td>\n",
       "      <td>8</td>\n",
       "    </tr>\n",
       "  </tbody>\n",
       "</table>\n",
       "</div>"
      ],
      "text/plain": [
       "               age  prescription astigmatic tear_rate lenses\n",
       "count           16            16         16        16     16\n",
       "unique           3             2          2         2      3\n",
       "top     presbyopic  hypermetrope        yes    normal   none\n",
       "freq             6             9          9        10      8"
      ]
     },
     "execution_count": 6,
     "metadata": {},
     "output_type": "execute_result"
    }
   ],
   "source": [
    "data.tail()"
   ]
  },
  {
   "cell_type": "code",
   "execution_count": 7,
   "metadata": {},
   "outputs": [
    {
     "data": {
      "text/html": [
       "<div>\n",
       "<style scoped>\n",
       "    .dataframe tbody tr th:only-of-type {\n",
       "        vertical-align: middle;\n",
       "    }\n",
       "\n",
       "    .dataframe tbody tr th {\n",
       "        vertical-align: top;\n",
       "    }\n",
       "\n",
       "    .dataframe thead th {\n",
       "        text-align: right;\n",
       "    }\n",
       "</style>\n",
       "<table border=\"1\" class=\"dataframe\">\n",
       "  <thead>\n",
       "    <tr style=\"text-align: right;\">\n",
       "      <th></th>\n",
       "      <th>age</th>\n",
       "      <th>prescription</th>\n",
       "      <th>astigmatic</th>\n",
       "      <th>tear_rate</th>\n",
       "      <th>lenses</th>\n",
       "    </tr>\n",
       "  </thead>\n",
       "  <tbody>\n",
       "    <tr>\n",
       "      <th>count</th>\n",
       "      <td>16</td>\n",
       "      <td>16</td>\n",
       "      <td>16</td>\n",
       "      <td>16</td>\n",
       "      <td>16</td>\n",
       "    </tr>\n",
       "    <tr>\n",
       "      <th>unique</th>\n",
       "      <td>3</td>\n",
       "      <td>2</td>\n",
       "      <td>2</td>\n",
       "      <td>2</td>\n",
       "      <td>3</td>\n",
       "    </tr>\n",
       "    <tr>\n",
       "      <th>top</th>\n",
       "      <td>presbyopic</td>\n",
       "      <td>hypermetrope</td>\n",
       "      <td>yes</td>\n",
       "      <td>normal</td>\n",
       "      <td>none</td>\n",
       "    </tr>\n",
       "    <tr>\n",
       "      <th>freq</th>\n",
       "      <td>6</td>\n",
       "      <td>9</td>\n",
       "      <td>9</td>\n",
       "      <td>10</td>\n",
       "      <td>8</td>\n",
       "    </tr>\n",
       "  </tbody>\n",
       "</table>\n",
       "</div>"
      ],
      "text/plain": [
       "               age  prescription astigmatic tear_rate lenses\n",
       "count           16            16         16        16     16\n",
       "unique           3             2          2         2      3\n",
       "top     presbyopic  hypermetrope        yes    normal   none\n",
       "freq             6             9          9        10      8"
      ]
     },
     "execution_count": 7,
     "metadata": {},
     "output_type": "execute_result"
    }
   ],
   "source": [
    "data.head()"
   ]
  },
  {
   "cell_type": "code",
   "execution_count": 8,
   "metadata": {
    "scrolled": true
   },
   "outputs": [
    {
     "name": "stdout",
     "output_type": "stream",
     "text": [
      "[16 3 'presbyopic' 6]\n",
      "[16 2 'hypermetrope' 9]\n",
      "[16 2 'yes' 9]\n",
      "[16 2 'normal' 10]\n",
      "[16 3 'none' 8]\n"
     ]
    }
   ],
   "source": [
    "for c in data:\n",
    "    print(data[c].unique())"
   ]
  },
  {
   "cell_type": "code",
   "execution_count": 9,
   "metadata": {},
   "outputs": [],
   "source": [
    "for c in data.columns:\n",
    "    data.columns[0]"
   ]
  },
  {
   "cell_type": "code",
   "execution_count": 10,
   "metadata": {},
   "outputs": [
    {
     "data": {
      "text/plain": [
       "age             16\n",
       "prescription    16\n",
       "astigmatic      16\n",
       "tear_rate       16\n",
       "lenses          16\n",
       "dtype: int64"
      ]
     },
     "execution_count": 10,
     "metadata": {},
     "output_type": "execute_result"
    }
   ],
   "source": [
    "df.count(axis=0)"
   ]
  },
  {
   "cell_type": "code",
   "execution_count": 11,
   "metadata": {},
   "outputs": [
    {
     "name": "stdout",
     "output_type": "stream",
     "text": [
      "Index(['age', 'prescription', 'astigmatic', 'tear_rate', 'lenses'], dtype='object')\n"
     ]
    }
   ],
   "source": [
    "print(df.columns)"
   ]
  },
  {
   "cell_type": "code",
   "execution_count": 12,
   "metadata": {},
   "outputs": [
    {
     "data": {
      "text/plain": [
       "0              young\n",
       "1              young\n",
       "2              young\n",
       "3              young\n",
       "4              young\n",
       "5         presbyopic\n",
       "6         presbyopic\n",
       "7         presbyopic\n",
       "8         presbyopic\n",
       "9         presbyopic\n",
       "10        presbyopic\n",
       "11    Pre-presbyopic\n",
       "12    Pre-presbyopic\n",
       "13    Pre-presbyopic\n",
       "14    Pre-presbyopic\n",
       "15    Pre-presbyopic\n",
       "Name: age, dtype: object"
      ]
     },
     "execution_count": 12,
     "metadata": {},
     "output_type": "execute_result"
    }
   ],
   "source": [
    "df.age"
   ]
  },
  {
   "cell_type": "code",
   "execution_count": 13,
   "metadata": {},
   "outputs": [],
   "source": [
    "for c in df:\n",
    "    age = df.age\n",
    "    prescription = df.prescription\n",
    "    astigmatic = df.astigmatic\n",
    "    tear_rate = df.tear_rate"
   ]
  },
  {
   "cell_type": "code",
   "execution_count": 14,
   "metadata": {},
   "outputs": [
    {
     "name": "stdout",
     "output_type": "stream",
     "text": [
      "0              young\n",
      "1              young\n",
      "2              young\n",
      "3              young\n",
      "4              young\n",
      "5         presbyopic\n",
      "6         presbyopic\n",
      "7         presbyopic\n",
      "8         presbyopic\n",
      "9         presbyopic\n",
      "10        presbyopic\n",
      "11    Pre-presbyopic\n",
      "12    Pre-presbyopic\n",
      "13    Pre-presbyopic\n",
      "14    Pre-presbyopic\n",
      "15    Pre-presbyopic\n",
      "Name: age, dtype: object\n"
     ]
    }
   ],
   "source": [
    "print(age)"
   ]
  },
  {
   "cell_type": "code",
   "execution_count": 15,
   "metadata": {},
   "outputs": [],
   "source": [
    "cnt = 0\n",
    "attr = []\n",
    "key_val = []\n",
    "for k in df:\n",
    "    if k != 'lenses':\n",
    "        for m in df[k]:\n",
    "            #print(m)\n",
    "            #print(df.lenses[cnt])\n",
    "            key_val.append([m, df.lenses[cnt]])\n",
    "            attr.append(m)\n",
    "            #print(key_val)\n",
    "            cnt = cnt+1\n",
    "        #print('end of cols\\n')\n",
    "        cnt = 0\n",
    "    "
   ]
  },
  {
   "cell_type": "code",
   "execution_count": 16,
   "metadata": {},
   "outputs": [
    {
     "name": "stdout",
     "output_type": "stream",
     "text": [
      "defaultdict(<class 'int'>,\n",
      "            {('Pre-presbyopic', 'hard'): 1,\n",
      "             ('Pre-presbyopic', 'none'): 2,\n",
      "             ('Pre-presbyopic', 'soft'): 2,\n",
      "             ('hypermetrope', 'none'): 6,\n",
      "             ('hypermetrope', 'soft'): 3,\n",
      "             ('myope', 'hard'): 3,\n",
      "             ('myope', 'none'): 2,\n",
      "             ('myope', 'soft'): 2,\n",
      "             ('no', 'none'): 2,\n",
      "             ('no', 'soft'): 5,\n",
      "             ('normal', 'hard'): 3,\n",
      "             ('normal', 'none'): 2,\n",
      "             ('normal', 'soft'): 5,\n",
      "             ('presbyopic', 'hard'): 1,\n",
      "             ('presbyopic', 'none'): 4,\n",
      "             ('presbyopic', 'soft'): 1,\n",
      "             ('reduced', 'none'): 6,\n",
      "             ('yes', 'hard'): 3,\n",
      "             ('yes', 'none'): 6,\n",
      "             ('young', 'hard'): 1,\n",
      "             ('young', 'none'): 2,\n",
      "             ('young', 'soft'): 2})\n",
      "1\n",
      "defaultdict(<class 'int'>, {'young': 5, 'presbyopic': 6, 'Pre-presbyopic': 5, 'myope': 7, 'hypermetrope': 9, 'yes': 9, 'no': 7, 'normal': 10, 'reduced': 6})\n",
      "5\n"
     ]
    }
   ],
   "source": [
    "from collections import defaultdict\n",
    "from pprint import pprint\n",
    "\n",
    "valid_rules = defaultdict(int)\n",
    "invalid_rules = defaultdict(int)\n",
    "num_occurences = defaultdict(int)\n",
    "confidence = defaultdict(int)\n",
    "support = defaultdict(int)\n",
    "\n",
    "new_attr = list(set(attr))\n",
    "#print(new_attr)\n",
    "atttrs = dict()\n",
    "for c in key_val:\n",
    "    #print(c[0])\n",
    "    #print(c[1])\n",
    "    valid_rules[(c[0], c[1])] += 1\n",
    "    for d in new_attr:\n",
    "        if c[0] == d:\n",
    "            num_occurences[(c[0])] += 1\n",
    "pprint(valid_rules)\n",
    "print(valid_rules['young', 'hard'])\n",
    "print(num_occurences)\n",
    "print(num_occurences['young'])            \n",
    "    "
   ]
  },
  {
   "cell_type": "code",
   "execution_count": 17,
   "metadata": {},
   "outputs": [
    {
     "name": "stdout",
     "output_type": "stream",
     "text": [
      "Правило #1 по атрибуту young класс равняется hard с ошибкой 0.8\n",
      " - Support: 1\n",
      " - Confidence: 0.2\n",
      "\n",
      "Правило #2 по атрибуту young класс равняется soft с ошибкой 0.6\n",
      " - Support: 2\n",
      " - Confidence: 0.4\n",
      "\n",
      "Правило #3 по атрибуту young класс равняется none с ошибкой 0.6\n",
      " - Support: 2\n",
      " - Confidence: 0.4\n",
      "\n",
      "Правило #4 по атрибуту presbyopic класс равняется none с ошибкой 0.3333333333333333\n",
      " - Support: 4\n",
      " - Confidence: 0.6666666666666666\n",
      "\n",
      "Правило #5 по атрибуту presbyopic класс равняется hard с ошибкой 0.8333333333333334\n",
      " - Support: 1\n",
      " - Confidence: 0.16666666666666666\n",
      "\n",
      "Правило #6 по атрибуту presbyopic класс равняется soft с ошибкой 0.8333333333333334\n",
      " - Support: 1\n",
      " - Confidence: 0.16666666666666666\n",
      "\n",
      "Правило #7 по атрибуту Pre-presbyopic класс равняется none с ошибкой 0.6\n",
      " - Support: 2\n",
      " - Confidence: 0.4\n",
      "\n",
      "Правило #8 по атрибуту Pre-presbyopic класс равняется hard с ошибкой 0.8\n",
      " - Support: 1\n",
      " - Confidence: 0.2\n",
      "\n",
      "Правило #9 по атрибуту Pre-presbyopic класс равняется soft с ошибкой 0.6\n",
      " - Support: 2\n",
      " - Confidence: 0.4\n",
      "\n",
      "Правило #10 по атрибуту myope класс равняется hard с ошибкой 0.5714285714285714\n",
      " - Support: 3\n",
      " - Confidence: 0.42857142857142855\n",
      "\n",
      "Правило #11 по атрибуту myope класс равняется soft с ошибкой 0.7142857142857143\n",
      " - Support: 2\n",
      " - Confidence: 0.2857142857142857\n",
      "\n",
      "Правило #12 по атрибуту hypermetrope класс равняется none с ошибкой 0.3333333333333333\n",
      " - Support: 6\n",
      " - Confidence: 0.6666666666666666\n",
      "\n",
      "Правило #13 по атрибуту hypermetrope класс равняется soft с ошибкой 0.6666666666666666\n",
      " - Support: 3\n",
      " - Confidence: 0.3333333333333333\n",
      "\n",
      "Правило #14 по атрибуту myope класс равняется none с ошибкой 0.7142857142857143\n",
      " - Support: 2\n",
      " - Confidence: 0.2857142857142857\n",
      "\n",
      "Правило #15 по атрибуту yes класс равняется hard с ошибкой 0.6666666666666666\n",
      " - Support: 3\n",
      " - Confidence: 0.3333333333333333\n",
      "\n",
      "Правило #16 по атрибуту no класс равняется soft с ошибкой 0.2857142857142857\n",
      " - Support: 5\n",
      " - Confidence: 0.7142857142857143\n",
      "\n",
      "Правило #17 по атрибуту yes класс равняется none с ошибкой 0.3333333333333333\n",
      " - Support: 6\n",
      " - Confidence: 0.6666666666666666\n",
      "\n",
      "Правило #18 по атрибуту no класс равняется none с ошибкой 0.7142857142857143\n",
      " - Support: 2\n",
      " - Confidence: 0.2857142857142857\n",
      "\n",
      "Правило #19 по атрибуту normal класс равняется hard с ошибкой 0.7\n",
      " - Support: 3\n",
      " - Confidence: 0.3\n",
      "\n",
      "Правило #20 по атрибуту normal класс равняется soft с ошибкой 0.5\n",
      " - Support: 5\n",
      " - Confidence: 0.5\n",
      "\n",
      "Правило #21 по атрибуту reduced класс равняется none с ошибкой 0.0\n",
      " - Support: 6\n",
      " - Confidence: 1.0\n",
      "\n",
      "Правило #22 по атрибуту normal класс равняется none с ошибкой 0.8\n",
      " - Support: 2\n",
      " - Confidence: 0.2\n",
      "\n"
     ]
    }
   ],
   "source": [
    "err = defaultdict(int)\n",
    "#min_err = defaultdict(int)\n",
    "#min_err[('young', 'hard')] = 1\n",
    "#print(min_err)\n",
    "min_v = 1\n",
    "min_d = defaultdict(int)\n",
    "count = 0\n",
    "for b, d in valid_rules:\n",
    "    #print(b)\n",
    "    #print(d)\n",
    "    #print(valid_rules[b,d])\n",
    "    total = num_occurences[b]\n",
    "    err[(b, d)] = (total - valid_rules[b,d]) / total\n",
    "    print(\"Правило #{0} по атрибуту {1} класс равняется {2} с ошибкой {3}\".format(count+1, b, d, err[b, d]))\n",
    "    print(\" - Support: {0}\".format(valid_rules[b,d]))\n",
    "    print(\" - Confidence: {0}\".format(valid_rules[b,d] / num_occurences[b]))\n",
    "    print(\"\")\n",
    "    count += 1\n",
    "        #min_err[(b, d)] = err\n",
    "#print(err)"
   ]
  },
  {
   "cell_type": "code",
   "execution_count": 18,
   "metadata": {},
   "outputs": [
    {
     "name": "stdout",
     "output_type": "stream",
     "text": [
      "{('young', 'hard'): 0.8, ('young', 'soft'): 0.6, ('presbyopic', 'none'): 0.3333333333333333, ('no', 'soft'): 0.2857142857142857, ('reduced', 'none'): 0.0}\n",
      "[(('young', 'hard'), 0.8),\n",
      " (('young', 'soft'), 0.6),\n",
      " (('young', 'none'), 0.6),\n",
      " (('presbyopic', 'none'), 0.3333333333333333),\n",
      " (('presbyopic', 'hard'), 0.8333333333333334),\n",
      " (('presbyopic', 'soft'), 0.8333333333333334),\n",
      " (('Pre-presbyopic', 'none'), 0.6),\n",
      " (('Pre-presbyopic', 'hard'), 0.8),\n",
      " (('Pre-presbyopic', 'soft'), 0.6),\n",
      " (('myope', 'hard'), 0.5714285714285714),\n",
      " (('myope', 'soft'), 0.7142857142857143),\n",
      " (('hypermetrope', 'none'), 0.3333333333333333),\n",
      " (('hypermetrope', 'soft'), 0.6666666666666666),\n",
      " (('myope', 'none'), 0.7142857142857143),\n",
      " (('yes', 'hard'), 0.6666666666666666),\n",
      " (('no', 'soft'), 0.2857142857142857),\n",
      " (('yes', 'none'), 0.3333333333333333),\n",
      " (('no', 'none'), 0.7142857142857143),\n",
      " (('normal', 'hard'), 0.7),\n",
      " (('normal', 'soft'), 0.5),\n",
      " (('reduced', 'none'), 0.0),\n",
      " (('normal', 'none'), 0.8)]\n"
     ]
    }
   ],
   "source": [
    "#print(err['young', 'soft'])\n",
    "min_val = 1\n",
    "min_defd = {}\n",
    "for b, d in err:\n",
    "    #print(err[b, d])\n",
    "    #print(min_val)\n",
    "    if err[b, d] < min_val:\n",
    "        min_val = err[b, d]\n",
    "        min_defd[b, d] = min_val\n",
    "print(min_defd)\n",
    "pprint(list(err.items()))"
   ]
  },
  {
   "cell_type": "code",
   "execution_count": 19,
   "metadata": {},
   "outputs": [
    {
     "name": "stdout",
     "output_type": "stream",
     "text": [
      "[(('reduced', 'none'), 0.0),\n",
      " (('no', 'soft'), 0.2857142857142857),\n",
      " (('presbyopic', 'none'), 0.3333333333333333),\n",
      " (('hypermetrope', 'none'), 0.3333333333333333),\n",
      " (('yes', 'none'), 0.3333333333333333),\n",
      " (('normal', 'soft'), 0.5),\n",
      " (('myope', 'hard'), 0.5714285714285714),\n",
      " (('young', 'soft'), 0.6),\n",
      " (('young', 'none'), 0.6),\n",
      " (('Pre-presbyopic', 'none'), 0.6),\n",
      " (('Pre-presbyopic', 'soft'), 0.6),\n",
      " (('hypermetrope', 'soft'), 0.6666666666666666),\n",
      " (('yes', 'hard'), 0.6666666666666666),\n",
      " (('normal', 'hard'), 0.7),\n",
      " (('myope', 'soft'), 0.7142857142857143),\n",
      " (('myope', 'none'), 0.7142857142857143),\n",
      " (('no', 'none'), 0.7142857142857143),\n",
      " (('young', 'hard'), 0.8),\n",
      " (('Pre-presbyopic', 'hard'), 0.8),\n",
      " (('normal', 'none'), 0.8),\n",
      " (('presbyopic', 'hard'), 0.8333333333333334),\n",
      " (('presbyopic', 'soft'), 0.8333333333333334)]\n"
     ]
    }
   ],
   "source": [
    "import operator\n",
    "#sorted_err = sorted(min_defd.items(), key=operator.itemgetter(1))\n",
    "sorted_err_1 = sorted(err.items(), key=operator.itemgetter(1))\n",
    "#pprint(sorted_err)\n",
    "pprint(sorted_err_1)"
   ]
  },
  {
   "cell_type": "code",
   "execution_count": 30,
   "metadata": {},
   "outputs": [
    {
     "name": "stdout",
     "output_type": "stream",
     "text": [
      "Правила выбранные по ошибке меньше 0,4\n",
      "\n",
      "Правило #1\n",
      "По атрибуту presbyopic класс равняется none с ошибкой - 0.3333333333333333\n",
      " - Support 6\n",
      " - Confidence 0.6666666666666666\n",
      "\n",
      "Правило #2\n",
      "По атрибуту no класс равняется soft с ошибкой - 0.2857142857142857\n",
      " - Support 7\n",
      " - Confidence 0.7142857142857143\n",
      "\n",
      "Правило #3\n",
      "По атрибуту reduced класс равняется none с ошибкой - 0.0\n",
      " - Support 6\n",
      " - Confidence 1.0\n",
      "\n"
     ]
    }
   ],
   "source": [
    "count = 0\n",
    "#print(min_defd)\n",
    "print(\"Правила выбранные по ошибке меньше 0,4\")\n",
    "print(\"\")\n",
    "for g, k in min_defd:\n",
    "    if min_defd[g,k] < 0.4:\n",
    "        print(\"Правило #{0}\".format(count+1))\n",
    "        print(\"По атрибуту {0} класс равняется {1} с ошибкой - {2}\".format(g, k, min_defd[g, k]))\n",
    "        print(\" - Support {0}\".format(num_occurences[g]))\n",
    "        print(\" - Confidence {0}\".format(valid_rules[g, k] / num_occurences[g]))\n",
    "        print(\"\")\n",
    "    else:continue\n",
    "    count += 1\n",
    "    \n",
    "    "
   ]
  },
  {
   "cell_type": "code",
   "execution_count": null,
   "metadata": {},
   "outputs": [],
   "source": []
  }
 ],
 "metadata": {
  "kernelspec": {
   "display_name": "Python 3",
   "language": "python",
   "name": "python3"
  },
  "language_info": {
   "codemirror_mode": {
    "name": "ipython",
    "version": 3
   },
   "file_extension": ".py",
   "mimetype": "text/x-python",
   "name": "python",
   "nbconvert_exporter": "python",
   "pygments_lexer": "ipython3",
   "version": "3.7.1"
  }
 },
 "nbformat": 4,
 "nbformat_minor": 2
}
